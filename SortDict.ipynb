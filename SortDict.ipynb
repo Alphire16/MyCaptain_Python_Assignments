{
 "cells": [
  {
   "cell_type": "code",
   "execution_count": 6,
   "id": "61e4874f-4a25-4bc7-9433-5e3218c5ec35",
   "metadata": {
    "tags": []
   },
   "outputs": [
    {
     "name": "stdin",
     "output_type": "stream",
     "text": [
      "Enter your word:  abbccc\n"
     ]
    },
    {
     "name": "stdout",
     "output_type": "stream",
     "text": [
      "The count of letters of abbccc are:\n",
      "c = 3\n",
      "b = 2\n",
      "a = 1\n"
     ]
    }
   ],
   "source": [
    "def Sort(count):\n",
    "    sortedcount={}\n",
    "    sorted_keys = sorted(count, key = count.get, reverse= True)               #Sorting Block\n",
    "    for i in sorted_keys:\n",
    "        sortedcount[i] = count[i]\n",
    "    return sortedcount\n",
    "#--------------------------------------------\n",
    "def most_frequent(word):\n",
    "    Count = {}\n",
    "    for i in word:\n",
    "        if i in Count:\n",
    "            Count[i] += 1                                #Converting the Input into a Dictionary\n",
    "        else:\n",
    "            Count[i] = 1\n",
    "    SortedCount = Sort(Count)\n",
    "    return SortedCount\n",
    "#-------------------------------------------\n",
    "a = input(\"Enter your word: \")\n",
    "b = most_frequent(a)\n",
    "print(f\"The count of letters of {a} are:\")                                 #Input and Output\n",
    "for i in b: \n",
    "    print(f\"{i} = {b[i]}\")"
   ]
  },
  {
   "cell_type": "code",
   "execution_count": null,
   "id": "7ef8242f-99b5-4ce8-9048-34d5f9c77c05",
   "metadata": {},
   "outputs": [],
   "source": []
  }
 ],
 "metadata": {
  "kernelspec": {
   "display_name": "Python 3",
   "language": "python",
   "name": "python3"
  },
  "language_info": {
   "codemirror_mode": {
    "name": "ipython",
    "version": 3
   },
   "file_extension": ".py",
   "mimetype": "text/x-python",
   "name": "python",
   "nbconvert_exporter": "python",
   "pygments_lexer": "ipython3",
   "version": "3.9.2"
  }
 },
 "nbformat": 4,
 "nbformat_minor": 5
}
