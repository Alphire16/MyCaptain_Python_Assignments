{
 "cells": [
  {
   "cell_type": "code",
   "execution_count": 110,
   "id": "da45442c-d675-40ff-895c-0fdb6ad56cb8",
   "metadata": {},
   "outputs": [],
   "source": [
    "import requests as reqs\n",
    "from bs4 import BeautifulSoup as BS\n",
    "import csv\n",
    "\n",
    "oyo_url = \"https://www.oyorooms.com/hotels-in-mumbai/?page=\"\n",
    "page_num = 11\n",
    "\n",
    "def OYO_CSV(inpList):\n",
    "         with open(\"OYO_Info.csv\",\"a+\",newline = \"\") as oyoInfo:\n",
    "            oyoWrite = csv.writer(oyoInfo)\n",
    "            if oyoInfo.tell() == 0:\n",
    "                oyoWrite.writerow(Head)\n",
    "            oyoWrite.writerow(inpList)\n",
    "\n",
    "\n",
    "for it in range(1,page_num):\n",
    "    oyo_url +=str(it)\n",
    "    req = reqs.get(oyo_url, headers ={'User-Agent': 'Mozilla/5.0 (Macintosh; Intel Mac OS X 10_11_5) AppleWebKit/537.36 (KHTML, like Gecko) Chrome/50.0.2661.102 Safari/537.36'} )\n",
    "    cont = req.content\n",
    "    bs = BS(cont,\"html.parser\")\n",
    "\n",
    "    Head = [\"Hotel Number\",\"Hotel Name\" , \"Hotel Address\" , \"Hotel Rating\" , \"Hotel Amenities\" , \"Hotel Pricing\"]\n",
    "    All_Hotels = bs.find_all(\"div\",{\"class\" : \"hotelCardListing\"})\n",
    "    hotel_amenities = []\n",
    "    wholeList=[]\n",
    "\n",
    "    \n",
    "\n",
    "    for i,hotel in enumerate(All_Hotels):   \n",
    "        hotel_name = hotel.find(\"h3\", {\"class\" : \"listingHotelDescription__hotelName\"}).text\n",
    "        hotel_address = hotel.find(\"span\",{\"class\":\"u-line--clamp-2\"}).text\n",
    "        hotel_rating = hotel.find(\"span\",{\"class\":\"hotelRating__rating\"}).text\n",
    "        ph_a = hotel.find_all(\"div\",{\"class\":\"amenityWrapper\"})\n",
    "        try :\n",
    "            hotel_pricing = hotel.find(\"span\",{\"class\":\"listingPrice__finalPrice\"}).text\n",
    "        #print(list(ph_a))#.find_all(\"div\",{\"class\":\"amenityWrapper__amenity\"}))\n",
    "        except :\n",
    "            hotel_pricing = \"---\"\n",
    "\n",
    "        for amenity in ph_a:\n",
    "            a = amenity.find(\"span\",{\"class\":\"d-body-sm d-textEllipsis\"}).text\n",
    "            hotel_amenities.append(a.strip())\n",
    "            #except AttributeError:\n",
    "            #    hotel_amenities.append( None )\n",
    "        #print(i+1,hotel_name)\n",
    "        #print(\"\\t\",i+1,hotel_address)\n",
    "        #print(\"\\t\\t\",i+1,hotel_rating)\n",
    "        #print(\"\\t\\t\\t\",i+1,hotel_amenities)\n",
    "        #print(\"\\t\\t\\t\\t\",i+1,hotel_pricing)\n",
    "\n",
    "        wholeList =[i+1 , hotel_name , hotel_address , hotel_rating , \",\".join(hotel_amenities), hotel_pricing[1::]]\n",
    "        OYO_CSV(wholeList)\n",
    "        oyo_url = oyo_url.replace(str(it),\"\")"
   ]
  },
  {
   "cell_type": "code",
   "execution_count": 109,
   "id": "a39292d5-3ded-4c91-a513-c3d613f905f7",
   "metadata": {},
   "outputs": [
    {
     "data": {
      "text/plain": [
       "'https://www.oyorooms.com/hotels-in-mumbai/?page=5'"
      ]
     },
     "execution_count": 109,
     "metadata": {},
     "output_type": "execute_result"
    }
   ],
   "source": [
    "oyo_url"
   ]
  },
  {
   "cell_type": "code",
   "execution_count": null,
   "id": "14010225-70f0-473f-863f-dfd90d011515",
   "metadata": {},
   "outputs": [],
   "source": []
  }
 ],
 "metadata": {
  "kernelspec": {
   "display_name": "Python 3",
   "language": "python",
   "name": "python3"
  },
  "language_info": {
   "codemirror_mode": {
    "name": "ipython",
    "version": 3
   },
   "file_extension": ".py",
   "mimetype": "text/x-python",
   "name": "python",
   "nbconvert_exporter": "python",
   "pygments_lexer": "ipython3",
   "version": "3.9.2"
  }
 },
 "nbformat": 4,
 "nbformat_minor": 5
}
